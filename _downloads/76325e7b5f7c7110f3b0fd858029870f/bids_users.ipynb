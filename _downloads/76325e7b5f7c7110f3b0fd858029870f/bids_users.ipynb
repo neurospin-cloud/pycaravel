{
  "cells": [
    {
      "cell_type": "code",
      "execution_count": null,
      "metadata": {
        "collapsed": false
      },
      "outputs": [],
      "source": [
        "%matplotlib inline"
      ]
    },
    {
      "cell_type": "markdown",
      "metadata": {},
      "source": [
        "\n# BIDS directory parsing (user mode)\n\nCredit: A Grigis\n\npycaravel is a Python package that enables you to parse various source of data.\nIn this tutorial you will learn how to parse and search in a BIDS directory.\n\n## First checks\n\nIn order to test if pycaravel package is installed on your machine, you can\ncheck the package version.\n"
      ]
    },
    {
      "cell_type": "code",
      "execution_count": null,
      "metadata": {
        "collapsed": false
      },
      "outputs": [],
      "source": [
        "import os\nimport caravel\n\nprint(caravel.__version__)\nprint(caravel.info())"
      ]
    },
    {
      "cell_type": "markdown",
      "metadata": {},
      "source": [
        "## Create a parser for your project\n\nThe package provides a common interface to parse a BIDS directory. The\nparsing rules are defined by projects in the module, so we will beed to\nspecify the project name you are working on. For the moement it is not\npossible to specify these rules via the API.\n\n"
      ]
    },
    {
      "cell_type": "code",
      "execution_count": null,
      "metadata": {
        "collapsed": false
      },
      "outputs": [],
      "source": [
        "cwdir = os.path.dirname(os.path.realpath(__file__))\nparser = caravel.get_parser(\n    project=\"hbn\", confdir=os.path.join(cwdir, os.pardir, \"conf\"),\n    layoutdir=cwdir)"
      ]
    },
    {
      "cell_type": "markdown",
      "metadata": {},
      "source": [
        "You can now list the available configurations for your project, and the\navailable layout representations pre-generated. Note that these\nrepresentations are sorted by dates, and that the latest one will be used.\n\n"
      ]
    },
    {
      "cell_type": "code",
      "execution_count": null,
      "metadata": {
        "collapsed": false
      },
      "outputs": [],
      "source": [
        "from pprint import pprint\n\npprint(parser.conf)\npprint(parser.representation)"
      ]
    },
    {
      "cell_type": "markdown",
      "metadata": {},
      "source": [
        "You can export the whole 'sourcedata' layout in a pandas DataFrame.\n\n"
      ]
    },
    {
      "cell_type": "code",
      "execution_count": null,
      "metadata": {
        "collapsed": false
      },
      "outputs": [],
      "source": [
        "print(parser.export_layout(\"sourcedata\"))"
      ]
    },
    {
      "cell_type": "markdown",
      "metadata": {},
      "source": [
        "It is also possible to filter this dataset. You need first to list all the\navaliable filtering keys, then list all the availables values for the\nfiltering key(s) of interest, and finally filter your dataset.\n\n"
      ]
    },
    {
      "cell_type": "code",
      "execution_count": null,
      "metadata": {
        "collapsed": false
      },
      "outputs": [],
      "source": [
        "print(parser.list_keys(\"sourcedata\"))\nprint(parser.list_values(\"sourcedata\", \"subject\"))\nprint(parser.list_values(\"sourcedata\", \"modality\"))\nsearch1 = parser.filter_layout(\"sourcedata\", subject=\"NDARLU606ZDD\",\n                               modality=\"anat|func\")\nprint(search1)\nsearch2 = parser.filter_layout(\"sourcedata\", extension=\"tsv\")\nprint(search2)"
      ]
    },
    {
      "cell_type": "markdown",
      "metadata": {},
      "source": [
        "Finally you may want to ask the system to load the filtered data. Only a\ncouple of file extensions are supported. If no loader has been found the\nfilename is returned\n\n"
      ]
    },
    {
      "cell_type": "code",
      "execution_count": null,
      "metadata": {
        "collapsed": false
      },
      "outputs": [],
      "source": [
        "if not search1.empty:\n    data1 = parser.load_data(\"sourcedata\", search1)\n    pprint(data1)\nif not search2.empty:\n    data2 = parser.load_data(\"sourcedata\", search2)\n    pprint(data2)"
      ]
    },
    {
      "cell_type": "markdown",
      "metadata": {},
      "source": [
        "## And for the derivatives\n\nWe can do the same for the derivatives\n\n"
      ]
    },
    {
      "cell_type": "code",
      "execution_count": null,
      "metadata": {
        "collapsed": false
      },
      "outputs": [],
      "source": [
        "print(parser.export_layout(\"derivatives\"))\nprint(parser.list_keys(\"derivatives\"))\nprint(parser.list_values(\"derivatives\", \"process\"))\nsearch3 = parser.filter_layout(\"derivatives\", subject=\"NDARAE199TDD\",\n                               process=\"scalars\")\nprint(search3)\ndata3 = parser.load_data(\"derivatives\", search3)\npprint(data3)\nsearch3bis = parser.filter_layout(\"derivatives\", process=\"tbss_stats\",\n                                  extension=\"tsv\")\nprint(search3bis)\ndata3bis = parser.load_data(\"derivatives\", search3bis)\npprint(data3bis)"
      ]
    },
    {
      "cell_type": "markdown",
      "metadata": {},
      "source": [
        "## And for the clinical data\n\nWe can do the same for the clinical data denoted in BIDS phenotype\n\n"
      ]
    },
    {
      "cell_type": "code",
      "execution_count": null,
      "metadata": {
        "collapsed": false
      },
      "outputs": [],
      "source": [
        "print(parser.export_layout(\"phenotype\"))\nsearch4 = parser.filter_layout(\"phenotype\", extension=\"tsv\")\nprint(search4)\ndata4 = parser.load_data(\"phenotype\", search4)\npprint(data4)"
      ]
    }
  ],
  "metadata": {
    "kernelspec": {
      "display_name": "Python 3",
      "language": "python",
      "name": "python3"
    },
    "language_info": {
      "codemirror_mode": {
        "name": "ipython",
        "version": 3
      },
      "file_extension": ".py",
      "mimetype": "text/x-python",
      "name": "python",
      "nbconvert_exporter": "python",
      "pygments_lexer": "ipython3",
      "version": "3.8.18"
    }
  },
  "nbformat": 4,
  "nbformat_minor": 0
}