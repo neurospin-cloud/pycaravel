{
  "cells": [
    {
      "cell_type": "code",
      "execution_count": null,
      "metadata": {
        "collapsed": false
      },
      "outputs": [],
      "source": [
        "%matplotlib inline"
      ]
    },
    {
      "cell_type": "markdown",
      "metadata": {},
      "source": [
        "\n# BIDS directory parsing (manager mode)\n\nCredit: A Grigis\n\npycaravel is a Python package that enables you to parse various source of data.\nIn this tutorial you will learn how to parse and search a BIDS directory, and\nthen create a representation of this parser. Using the described representation\nwill speed up the search for users.\n\n## First checks\n\nIn order to test if pycaravel package is installed on your machine, you can\ncheck the package version.\n"
      ]
    },
    {
      "cell_type": "code",
      "execution_count": null,
      "metadata": {
        "collapsed": false
      },
      "outputs": [],
      "source": [
        "import os\nimport caravel\n\nprint(caravel.__version__)\nprint(caravel.info())"
      ]
    },
    {
      "cell_type": "markdown",
      "metadata": {},
      "source": [
        "## Create a parser for your project\n\nThe package provides a common interface to parse a BIDS directory. The\nparsing rules are defined by projects in the module, so we will beed to\nspecify the project name you are working on. For the moment it is not\npossible to specify these rules via the API. Set the layoutdir to None\nin order to switch to the managers mode.\n\n"
      ]
    },
    {
      "cell_type": "code",
      "execution_count": null,
      "metadata": {
        "collapsed": false
      },
      "outputs": [],
      "source": [
        "cwdir = os.path.dirname(os.path.realpath(__file__))\nparser = caravel.get_parser(\n    project=\"hbn\", confdir=os.path.join(cwdir, os.pardir, \"conf\"),\n    layoutdir=None)"
      ]
    },
    {
      "cell_type": "markdown",
      "metadata": {},
      "source": [
        "## Create representation of your BIDS directory\n\nYou will now parse your BIDS directory. As this step may be time consuming,\nthe managers are in charge of creating a representation of the final\nparser that will be used during the user search steps. This can be done by\nusing the following function, specifying the BIDS root directory and\nthe subfolder name to be parsed (sourcedata, derivatives, phenotype, ...).\nThis name must have a conresponding configuration file.\n\n"
      ]
    },
    {
      "cell_type": "code",
      "execution_count": null,
      "metadata": {
        "collapsed": false
      },
      "outputs": [],
      "source": [
        "parser.pickling_layout(\n    bids_root=\"/neurospin/psy/hbn\",\n    name=\"sourcedata\",\n    outdir=cwdir)\nprint(parser.list_keys(\"sourcedata\"))\nparser.pickling_layout(\n    bids_root=\"/neurospin/psy/hbn/\",\n    name=\"derivatives\",\n    subset=[\"tbss_stats\", \"scalars\"],\n    outdir=cwdir)\nprint(parser.list_keys(\"derivatives\"))\nparser.pickling_layout(\n    bids_root=\"/neurospin/psy/hbn\",\n    name=\"phenotype\",\n    outdir=cwdir)\nprint(parser.list_keys(\"phenotype\"))"
      ]
    }
  ],
  "metadata": {
    "kernelspec": {
      "display_name": "Python 3",
      "language": "python",
      "name": "python3"
    },
    "language_info": {
      "codemirror_mode": {
        "name": "ipython",
        "version": 3
      },
      "file_extension": ".py",
      "mimetype": "text/x-python",
      "name": "python",
      "nbconvert_exporter": "python",
      "pygments_lexer": "ipython3",
      "version": "3.8.18"
    }
  },
  "nbformat": 4,
  "nbformat_minor": 0
}