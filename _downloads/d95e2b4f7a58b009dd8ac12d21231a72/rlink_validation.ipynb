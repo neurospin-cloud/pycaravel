{
  "cells": [
    {
      "cell_type": "code",
      "execution_count": null,
      "metadata": {
        "collapsed": false
      },
      "outputs": [],
      "source": [
        "%matplotlib inline"
      ]
    },
    {
      "cell_type": "markdown",
      "metadata": {},
      "source": [
        "\n# Validation\n\nCredit: A Grigis\n\npycaravel is a Python package that enables you to apply validators.\nIn this tutorial you will learn how to get and apply validators.\n\n## First checks\n\nIn order to test if pycaravel package is installed on your machine, you can\ncheck the package version.\n"
      ]
    },
    {
      "cell_type": "code",
      "execution_count": null,
      "metadata": {
        "collapsed": false
      },
      "outputs": [],
      "source": [
        "import os\nimport caravel\n\nprint(caravel.__version__)\nprint(caravel.info())"
      ]
    },
    {
      "cell_type": "markdown",
      "metadata": {},
      "source": [
        "## Load the validators\n\nFirst load the validators of the 'rlink' project that only check the\nMRI structure.\n\n"
      ]
    },
    {
      "cell_type": "code",
      "execution_count": null,
      "metadata": {
        "collapsed": false
      },
      "outputs": [],
      "source": [
        "from rlink.validation import get_validators\n\nvalidators = get_validators(family=\"mri.structure\")\nprint(validators)"
      ]
    },
    {
      "cell_type": "markdown",
      "metadata": {},
      "source": [
        "## Apply validators\n\nApply the loaded validators and generate a report.\n\n"
      ]
    },
    {
      "cell_type": "code",
      "execution_count": null,
      "metadata": {
        "collapsed": false
      },
      "outputs": [],
      "source": [
        "import rlink\nfrom pprint import pprint\nfrom caravel.validation import run_validation\n\ndatadir = \"/neurospin/rlink/workspace/ci_toy/rlink-mri-upload\"\nprojectdir = os.path.dirname(os.path.realpath(rlink.__file__))\nparser = caravel.get_parser(\n    project=\"rlink-mri\", confdir=os.path.join(projectdir, \"conf\"),\n    layoutdir=None)\nparser.pickling_layout(\n    bids_root=datadir, name=\"sourcedata\", outdir=datadir)\nparser.pickling_layout(\n    bids_root=datadir, name=\"rawdata\", outdir=datadir)\ndata = {\n    \"layoutdir\": datadir,\n    \"confdir\": os.path.join(projectdir, \"conf\"),\n    \"project\": \"rlink-mri\"}\nreport = run_validation(data, validators=validators, logfile=None)\npprint(report)"
      ]
    }
  ],
  "metadata": {
    "kernelspec": {
      "display_name": "Python 3",
      "language": "python",
      "name": "python3"
    },
    "language_info": {
      "codemirror_mode": {
        "name": "ipython",
        "version": 3
      },
      "file_extension": ".py",
      "mimetype": "text/x-python",
      "name": "python",
      "nbconvert_exporter": "python",
      "pygments_lexer": "ipython3",
      "version": "3.8.18"
    }
  },
  "nbformat": 4,
  "nbformat_minor": 0
}