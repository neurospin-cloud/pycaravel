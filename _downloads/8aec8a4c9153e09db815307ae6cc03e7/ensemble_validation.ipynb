{
  "cells": [
    {
      "cell_type": "markdown",
      "metadata": {},
      "source": [
        "\n# Validation\n\nCredit: A Grigis\n\npycaravel is a Python package that enables you to apply validators.\nIn this tutorial you will learn how to get and apply validators.\n\n## First checks\n\nIn order to test if pycaravel package is installed on your machine, you can\ncheck the package version.\n"
      ]
    },
    {
      "cell_type": "code",
      "execution_count": null,
      "metadata": {
        "collapsed": false
      },
      "outputs": [],
      "source": [
        "import os\nfrom pprint import pprint\n\nimport ensemble\nfrom ensemble.validation import ValidationBase, get_validators\n\nimport caravel\nfrom caravel.validation import run_validation\n\nprint(caravel.__version__)\nprint(caravel.info())"
      ]
    },
    {
      "cell_type": "markdown",
      "metadata": {},
      "source": [
        "## Load the validators\n\nFirst load the validators of the 'ensemble' project that only check the\nVIDEO data.\n\n"
      ]
    },
    {
      "cell_type": "code",
      "execution_count": null,
      "metadata": {
        "collapsed": false
      },
      "outputs": [],
      "source": [
        "ValidationBase.__level__ = \"debug\"\nValidationBase.setup_logging()\n\nvalidators = get_validators(family=\"video.*\")\nprint(validators)"
      ]
    },
    {
      "cell_type": "markdown",
      "metadata": {},
      "source": [
        "## Apply validators\n\nApply the loaded validators and generate a report.\n\n"
      ]
    },
    {
      "cell_type": "code",
      "execution_count": null,
      "metadata": {
        "collapsed": false
      },
      "outputs": [],
      "source": [
        "datadir = \"/neurospin/rlink/workspace/ci_toy/ensemble/ensemble-videoraw-upload\"\nprojectdir = os.path.dirname(os.path.realpath(ensemble.__file__))\nparser = caravel.get_parser(\n    project=\"ensemble-videoraw\", confdir=os.path.join(projectdir, \"conf\"),\n    layoutdir=None)\nparser.pickling_layout(\n    bids_root=datadir, name=\"rawdata\", outdir=datadir)\ndata = {\n    \"layoutdir\": datadir,\n    \"confdir\": os.path.join(projectdir, \"conf\"),\n    \"project\": \"ensemble-videoraw\"}\nreport = run_validation(data, validators=validators, logfile=None)\npprint(report)"
      ]
    }
  ],
  "metadata": {
    "kernelspec": {
      "display_name": "Python 3",
      "language": "python",
      "name": "python3"
    },
    "language_info": {
      "codemirror_mode": {
        "name": "ipython",
        "version": 3
      },
      "file_extension": ".py",
      "mimetype": "text/x-python",
      "name": "python",
      "nbconvert_exporter": "python",
      "pygments_lexer": "ipython3",
      "version": "3.12.9"
    }
  },
  "nbformat": 4,
  "nbformat_minor": 0
}